{
 "cells": [
  {
   "cell_type": "markdown",
   "metadata": {},
   "source": [
    "# Deploy Trained Models on Test Set"
   ]
  },
  {
   "cell_type": "code",
   "execution_count": 1,
   "metadata": {},
   "outputs": [],
   "source": [
    "import pandas as pd\n",
    "import matplotlib.pyplot as plt\n",
    "import imageio.v3 as iio \n",
    "import cv2\n",
    "import os\n",
    "\n",
    "from fastai.data.all import *\n",
    "from fastai.vision.all import *\n",
    "\n",
    "import av\n",
    "\n",
    "from IPython.display import Video\n",
    "from tqdm.notebook import tqdm\n",
    "\n",
    "from PIL import ImageFile\n",
    "ImageFile.LOAD_TRUNCATED_IMAGES = True"
   ]
  },
  {
   "cell_type": "code",
   "execution_count": 2,
   "metadata": {},
   "outputs": [],
   "source": [
    "data_path = Path('data/')\n",
    "test_path = data_path/'test'\n",
    "models_path = Path('models/')"
   ]
  },
  {
   "cell_type": "markdown",
   "metadata": {},
   "source": [
    "## Converting the Videos to Frames"
   ]
  },
  {
   "cell_type": "code",
   "execution_count": 3,
   "metadata": {},
   "outputs": [
    {
     "data": {
      "text/plain": [
       "(#32) [Path('data/test/019d5b34_0.mp4'),Path('data/test/019d5b34_1.mp4'),Path('data/test/0b1495d3_0.mp4'),Path('data/test/0b1495d3_1.mp4'),Path('data/test/160606be_0.mp4'),Path('data/test/160606be_1.mp4'),Path('data/test/2f54ed1c_0.mp4'),Path('data/test/2f54ed1c_1.mp4'),Path('data/test/4dae79a9_0.mp4'),Path('data/test/4dae79a9_1.mp4')...]"
      ]
     },
     "execution_count": 3,
     "metadata": {},
     "output_type": "execute_result"
    }
   ],
   "source": [
    "test_path.ls()"
   ]
  },
  {
   "cell_type": "code",
   "execution_count": 10,
   "metadata": {},
   "outputs": [
    {
     "data": {
      "text/plain": [
       "[Path('data/test/019d5b34_0'),\n",
       " Path('data/test/019d5b34_1'),\n",
       " Path('data/test/0b1495d3_0'),\n",
       " Path('data/test/0b1495d3_1'),\n",
       " Path('data/test/160606be_0'),\n",
       " Path('data/test/160606be_1'),\n",
       " Path('data/test/2f54ed1c_0'),\n",
       " Path('data/test/2f54ed1c_1'),\n",
       " Path('data/test/4dae79a9_0'),\n",
       " Path('data/test/4dae79a9_1'),\n",
       " Path('data/test/5dc4fe12_0'),\n",
       " Path('data/test/5dc4fe12_1'),\n",
       " Path('data/test/947e05ca_0'),\n",
       " Path('data/test/947e05ca_1'),\n",
       " Path('data/test/9a70c54e_0'),\n",
       " Path('data/test/9a70c54e_1'),\n",
       " Path('data/test/9d3c239b_0'),\n",
       " Path('data/test/9d3c239b_1'),\n",
       " Path('data/test/9f4df856_0'),\n",
       " Path('data/test/9f4df856_1'),\n",
       " Path('data/test/b2939d3c_0'),\n",
       " Path('data/test/b2939d3c_1'),\n",
       " Path('data/test/e660601b_0'),\n",
       " Path('data/test/e660601b_1'),\n",
       " Path('data/test/e9d974aa_0'),\n",
       " Path('data/test/e9d974aa_1'),\n",
       " Path('data/test/ec9f4e2b_0'),\n",
       " Path('data/test/ec9f4e2b_1'),\n",
       " Path('data/test/ef4c2eb9_0'),\n",
       " Path('data/test/ef4c2eb9_1'),\n",
       " Path('data/test/fdf84965_0'),\n",
       " Path('data/test/fdf84965_1')]"
      ]
     },
     "execution_count": 10,
     "metadata": {},
     "output_type": "execute_result"
    }
   ],
   "source": [
    "names = []\n",
    "for a in test_path.ls():\n",
    "    names.append(a.stem)\n",
    "for n in names:\n",
    "    p_name = test_path/n\n",
    "    if not p_name.exists(): p_name.mkdir()\n",
    "\n",
    "frame_paths = []\n",
    "for a in test_path.ls():\n",
    "    if '.' not in str(a):\n",
    "        frame_paths.append(a)\n",
    "frame_paths"
   ]
  },
  {
   "cell_type": "code",
   "execution_count": 11,
   "metadata": {},
   "outputs": [],
   "source": [
    "def extract_frames(video_path):\n",
    "    '''convert video to PIL images'''\n",
    "    video = av.open(str(video_path))\n",
    "    for frame in video.decode(0):\n",
    "        yield frame.to_image()\n",
    "\n",
    "def avi2frames(video_path, path_frames=frame_paths, force=False):\n",
    "    \"Extract frames from avi file to jpgs\"\n",
    "    dest_path = path_frames/video_path.relative_to(video_path.parent.parent).with_suffix('')\n",
    "    if not dest_path.exists() or force:\n",
    "        dest_path.mkdir(parents=True, exist_ok=True)\n",
    "        for i, frame in enumerate(extract_frames(video_path)):\n",
    "            frame.save(dest_path/f'{i}.png')"
   ]
  },
  {
   "cell_type": "code",
   "execution_count": 12,
   "metadata": {},
   "outputs": [
    {
     "data": {
      "text/plain": [
       "[Path('data/test/019d5b34_0.mp4'),\n",
       " Path('data/test/019d5b34_1.mp4'),\n",
       " Path('data/test/0b1495d3_0.mp4'),\n",
       " Path('data/test/0b1495d3_1.mp4'),\n",
       " Path('data/test/160606be_0.mp4'),\n",
       " Path('data/test/160606be_1.mp4'),\n",
       " Path('data/test/2f54ed1c_0.mp4'),\n",
       " Path('data/test/2f54ed1c_1.mp4'),\n",
       " Path('data/test/4dae79a9_0.mp4'),\n",
       " Path('data/test/4dae79a9_1.mp4'),\n",
       " Path('data/test/5dc4fe12_0.mp4'),\n",
       " Path('data/test/5dc4fe12_1.mp4'),\n",
       " Path('data/test/947e05ca_0.mp4'),\n",
       " Path('data/test/947e05ca_1.mp4'),\n",
       " Path('data/test/9a70c54e_0.mp4'),\n",
       " Path('data/test/9a70c54e_1.mp4'),\n",
       " Path('data/test/9d3c239b_0.mp4'),\n",
       " Path('data/test/9d3c239b_1.mp4'),\n",
       " Path('data/test/9f4df856_0.mp4'),\n",
       " Path('data/test/9f4df856_1.mp4'),\n",
       " Path('data/test/b2939d3c_0.mp4'),\n",
       " Path('data/test/b2939d3c_1.mp4'),\n",
       " Path('data/test/e660601b_0.mp4'),\n",
       " Path('data/test/e660601b_1.mp4'),\n",
       " Path('data/test/e9d974aa_0.mp4'),\n",
       " Path('data/test/e9d974aa_1.mp4'),\n",
       " Path('data/test/ec9f4e2b_0.mp4'),\n",
       " Path('data/test/ec9f4e2b_1.mp4'),\n",
       " Path('data/test/ef4c2eb9_0.mp4'),\n",
       " Path('data/test/ef4c2eb9_1.mp4'),\n",
       " Path('data/test/fdf84965_0.mp4'),\n",
       " Path('data/test/fdf84965_1.mp4')]"
      ]
     },
     "execution_count": 12,
     "metadata": {},
     "output_type": "execute_result"
    }
   ],
   "source": [
    "video_paths = []\n",
    "for a in test_path.ls():\n",
    "    if '.mp4' in str(a):\n",
    "        video_paths.append(a)\n",
    "video_paths"
   ]
  },
  {
   "cell_type": "code",
   "execution_count": null,
   "metadata": {},
   "outputs": [],
   "source": [
    "parallel(avi2frames, video_paths)"
   ]
  },
  {
   "cell_type": "markdown",
   "metadata": {},
   "source": [
    "## Getting the Predictions"
   ]
  },
  {
   "cell_type": "code",
   "execution_count": null,
   "metadata": {},
   "outputs": [],
   "source": []
  }
 ],
 "metadata": {
  "kernelspec": {
   "display_name": "Python 3.9.13 ('base')",
   "language": "python",
   "name": "python3"
  },
  "language_info": {
   "codemirror_mode": {
    "name": "ipython",
    "version": 3
   },
   "file_extension": ".py",
   "mimetype": "text/x-python",
   "name": "python",
   "nbconvert_exporter": "python",
   "pygments_lexer": "ipython3",
   "version": "3.9.13"
  },
  "orig_nbformat": 4,
  "vscode": {
   "interpreter": {
    "hash": "f54b8b365741a5ea643742f3b575bebb692eefe356aeb6420ded503ab3b57434"
   }
  }
 },
 "nbformat": 4,
 "nbformat_minor": 2
}
